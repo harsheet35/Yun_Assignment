import requests
import pandas as pd
from sklearn.model_selection import train_test_split
from sklearn.metrics import mean_squared_error
from sklearn.ensemble import RandomForestRegressor
from sklearn.multioutput import MultiOutputRegressor

index = "NIFTY"
expiry_date = "2024-03-15T00:00:00.000Z"
url = f"https://live.markethound.in/api/history/decay?name={index}&expiry={expiry_date}&dte=0"
response = requests.get(url)
if response.status_code == 200:
    data = response.json()
    df = pd.DataFrame(data)
else:
    print("Error fetching data")
    exit()

df['Open'] = df['result'].apply(lambda x: x['open'])
df['High'] = df['result'].apply(lambda x: x['high'])
df['Low'] = df['result'].apply(lambda x: x['low'])
df['Close'] = df['result'].apply(lambda x: x['close'])
df['Index_Open'] = df['result'].apply(lambda x: x['index_open'])
df['Index_High'] = df['result'].apply(lambda x: x['index_high'])
df['Index_Low'] = df['result'].apply(lambda x: x['index_low'])
df['Index_Close'] = df['result'].apply(lambda x: x['index_close'])
df['Date'] = df['result'].apply(lambda x: x['date'])

df.drop(['status', 'message', 'result'], axis=1, inplace=True)

df = df[['Date', 'Open', 'High', 'Low', 'Close', 'Index_Open', 'Index_High', 'Index_Low', 'Index_Close']]

X = df.drop(['Date'], axis=1)
y = df[['Open', 'High', 'Low', 'Close']]

X_train, X_test, y_train, y_test = train_test_split(X, y, test_size=0.2, random_state=42)

model = MultiOutputRegressor(RandomForestRegressor(n_estimators=150, random_state=7))
model.fit(X_train, y_train)

predictions = model.predict(X_test)

mse = mean_squared_error(y_test, predictions)
print("Mean Squared Error:", mse)
