pip install nltk requests beautifulsoup4
import nltk
nltk.download('punkt')
nltk.download('vader_lexicon')
import requests
from bs4 import BeautifulSoup
import nltk
from nltk.sentiment import SentimentIntensityAnalyzer
from nltk.tokenize import word_tokenize
import datetime

def fetch_latest_news():

    return [{"source": "https://example.com/news1", "text": "Reliance Industries shows great profit this quarter."},
            {"source": "https://example.com/news2", "text": "Reliance plans to expand its retail operations."}]

def process_news_with_nlp(news_items):
    sia = SentimentIntensityAnalyzer()
    processed_news = []
    for item in news_items:
        text = item['text']
        sentences = nltk.sent_tokenize(text)
        sentiment_scores = [sia.polarity_scores(sentence) for sentence in sentences]
        item['sentiment'] = sentiment_scores
        processed_news.append(item)
    return processed_news

# Fetch the latest news
latest_news = fetch_latest_news()

# Process the news with NLP
processed_news = process_news_with_nlp(latest_news)

for news_item in processed_news:
    print(f"Source: {news_item['source']}")
    print(f"Text: {news_item['text']}")
    print(f"Sentiment Scores: {news_item['sentiment']}\n")
