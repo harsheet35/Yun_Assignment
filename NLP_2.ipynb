pip install nltk requests beautifulsoup4
import nltk
nltk.download('punkt')
nltk.download('vader_lexicon')
import requests
from bs4 import BeautifulSoup
import nltk
from nltk.sentiment import SentimentIntensityAnalyzer
from nltk.tokenize import word_tokenize
import datetime

# Assuming `fetch_latest_news` function is defined to fetch news about RIL
# Placeholder for fetching data
def fetch_latest_news():
    # This should return a list of dictionaries with keys 'source' and 'text'
    # Replace this with actual data fetching logic
    return [{"source": "https://example.com/news1", "text": "Reliance Industries shows great profit this quarter."},
            {"source": "https://example.com/news2", "text": "Reliance plans to expand its retail operations."}]

def process_news_with_nlp(news_items):
    sia = SentimentIntensityAnalyzer()
    processed_news = []
    for item in news_items:
        text = item['text']
        sentences = nltk.sent_tokenize(text)
        sentiment_scores = [sia.polarity_scores(sentence) for sentence in sentences]
        item['sentiment'] = sentiment_scores
        processed_news.append(item)
    return processed_news

# Fetch the latest news
latest_news = fetch_latest_news()

# Process the news with NLP
processed_news = process_news_with_nlp(latest_news)

# Example output
for news_item in processed_news:
    print(f"Source: {news_item['source']}")
    print(f"Text: {news_item['text']}")
    print(f"Sentiment Scores: {news_item['sentiment']}\n")
